{
 "cells": [
  {
   "cell_type": "markdown",
   "metadata": {},
   "source": [
    "# HW5 SVM\n",
    "\n",
    "Original jupyter notebook is uploaded at [GitHub](https://github.com/zhuo34/csmath2022).\n",
    "\n",
    "## Active set method\n",
    "\\begin{aligned}\n",
    "\\min\\quad& f(\\mathbf{x}) = \\frac{1}{2}\\mathbf{x}^TH\\mathbf{x}+\\mathbf{c}^T\\mathbf{x} \\\\\n",
    "\\textrm{s.t.}\\quad& A\\mathbf{x} \\geq \\mathbf{b}\n",
    "\\end{aligned}"
   ]
  },
  {
   "cell_type": "code",
   "execution_count": 13,
   "metadata": {},
   "outputs": [
    {
     "name": "stdout",
     "output_type": "stream",
     "text": [
      "[2, 4]\n",
      "[[0.]\n",
      " [0.]]\n",
      "[-0. -5.]\n",
      "[[2]\n",
      " [0]]\n"
     ]
    }
   ],
   "source": [
    "import numpy as np\n",
    "import scipy\n",
    "import scipy.linalg\n",
    "\n",
    "\n",
    "def solve_ActiveSet(H, c, A, b, x0=None, epsilon=1e-6):\n",
    "    def as2darray(a):\n",
    "        if a.ndim == 1:\n",
    "            return a[:, np.newaxis]\n",
    "        return a\n",
    "        \n",
    "    def Lagrange(H, c, A, b):\n",
    "        m, n = A.shape\n",
    "        AA1 = np.hstack([H, -A.T])\n",
    "        AA2 = np.hstack([A, np.zeros([m, m])])\n",
    "        AA = np.vstack([AA1, AA2])\n",
    "        bb = np.vstack([-c, b])\n",
    "        xx = scipy.linalg.solve(AA, bb)\n",
    "        return xx\n",
    "\n",
    "    m, n = A.shape\n",
    "    c, b = as2darray(c), as2darray(b)\n",
    "\n",
    "    if x0 is None:\n",
    "        # find x0\n",
    "        idx = np.where(A[0] != 0)[0][0]\n",
    "        x0 = np.zeros(n)\n",
    "        x0[idx] = b[idx, 0] / A[0, idx]\n",
    "    x = as2darray(x0)\n",
    "\n",
    "    # initialize active set\n",
    "    active_set = np.where(A @ x == b)[0].tolist()\n",
    "    print(active_set)\n",
    "    # return x\n",
    "\n",
    "    while True:\n",
    "        m_active = len(active_set)\n",
    "        output = Lagrange(H, H @ x + c, A[active_set], np.zeros([m_active, 1]))\n",
    "        d = output[:n]\n",
    "        print(d)\n",
    "        if np.sum(np.abs(d)) < epsilon:\n",
    "            output = Lagrange(H, c, A[active_set], b[active_set])\n",
    "            lam = np.squeeze(output[n:])\n",
    "            print(lam)\n",
    "            return x\n",
    "            if np.min(lam) >= 0:\n",
    "                break\n",
    "            else:\n",
    "                idx = np.argmin(lam)\n",
    "                active_set.pop(idx)\n",
    "        else:\n",
    "            active_map = np.zeros(m)\n",
    "            active_map[active_set] = 1\n",
    "            not_active_map = active_map == 0\n",
    "            map2 = np.squeeze(A @ d) < 0\n",
    "            alpha_map = np.logical_and(not_active_map, map2)\n",
    "            in_active_idx = np.argmin(np.squeeze(A @ d))\n",
    "            alpha = min(1, np.min((b[alpha_map] - A[alpha_map] @ x) / (A[alpha_map] @ d)))\n",
    "            \n",
    "            x += alpha * d\n",
    "\n",
    "            if alpha != 1:\n",
    "                active_set.append(in_active_idx)\n",
    "        break\n",
    "\n",
    "    return x\n",
    "\n",
    "H = np.array([[1, 0], [0, 1]])\n",
    "c = np.array([-2, -5])\n",
    "A = np.array([\n",
    "    [1, -2],\n",
    "    [-1, -2],\n",
    "    [-1, 2],\n",
    "    [1, 0],\n",
    "    [0, 1]\n",
    "])\n",
    "b = np.array([-2, -6, -2, 0, 0])\n",
    "x0 = np.array([2, 0])\n",
    "\n",
    "x = solve_ActiveSet(H, c, A, b, x0=x0)\n",
    "print(x)"
   ]
  }
 ],
 "metadata": {
  "interpreter": {
   "hash": "4f381197614a675ae0d7bfeebb0356a0f658e4872218591fda9f7b84ae5070e7"
  },
  "kernelspec": {
   "display_name": "Python 3.9.6 64-bit",
   "language": "python",
   "name": "python3"
  },
  "language_info": {
   "codemirror_mode": {
    "name": "ipython",
    "version": 3
   },
   "file_extension": ".py",
   "mimetype": "text/x-python",
   "name": "python",
   "nbconvert_exporter": "python",
   "pygments_lexer": "ipython3",
   "version": "3.9.6"
  },
  "orig_nbformat": 4
 },
 "nbformat": 4,
 "nbformat_minor": 2
}
